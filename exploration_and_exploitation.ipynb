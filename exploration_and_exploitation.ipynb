{
  "nbformat": 4,
  "nbformat_minor": 0,
  "metadata": {
    "colab": {
      "provenance": []
    },
    "kernelspec": {
      "name": "python3",
      "display_name": "Python 3"
    },
    "language_info": {
      "name": "python"
    }
  },
  "cells": [
    {
      "cell_type": "markdown",
      "source": [
        "## Exploration & Exploitation"
      ],
      "metadata": {
        "id": "L-c2ANNe9moe"
      }
    },
    {
      "cell_type": "markdown",
      "source": [
        "Open this [link](https://rl-lab.com/multi-armed-bandits/)"
      ],
      "metadata": {
        "id": "4i-UF44JQuuW"
      }
    },
    {
      "cell_type": "code",
      "execution_count": 1,
      "metadata": {
        "id": "Kgc_nCo10vHN"
      },
      "outputs": [],
      "source": [
        "from abc import ABCMeta, abstractmethod, abstractproperty\n",
        "import enum\n",
        "\n",
        "import numpy as np\n",
        "np.set_printoptions(precision=3)\n",
        "np.set_printoptions(suppress=True)\n",
        "\n",
        "import pandas\n",
        "\n",
        "import matplotlib.pyplot as plt\n",
        "%matplotlib inline"
      ]
    },
    {
      "cell_type": "markdown",
      "metadata": {
        "id": "Hzpz05vH0vHP"
      },
      "source": [
        "## Bernoulli Bandit"
      ]
    },
    {
      "cell_type": "code",
      "execution_count": 2,
      "metadata": {
        "id": "m0p3R44Z0vHQ"
      },
      "outputs": [],
      "source": [
        "class BernoulliBandit:\n",
        "  def __init__(self, n_actions=5):\n",
        "    self._probs = np.random.random(n_actions)\n",
        "\n",
        "  @property\n",
        "  def action_count(self):\n",
        "    return len(self._probs)\n",
        "\n",
        "  def pull(self, action):\n",
        "    if np.random.random() > self._probs[action]:\n",
        "      return 0.0\n",
        "    else: return 1.0\n",
        "  def optimal_reward(self):\n",
        "    return np.max(self._probs)\n",
        "\n",
        "  def reset(self):\n",
        "    pass\n",
        "  def step(self):\n",
        "    pass\n"
      ]
    },
    {
      "cell_type": "code",
      "execution_count": 3,
      "metadata": {
        "id": "BzQGvXXH0vHQ"
      },
      "outputs": [],
      "source": [
        "class AbstractAgent(metaclass=ABCMeta):\n",
        "    def init_actions(self, n_actions):\n",
        "        self._successes = np.zeros(n_actions)\n",
        "        self._failures = np.zeros(n_actions)\n",
        "        self._total_pulls = 0\n",
        "\n",
        "    @abstractmethod\n",
        "    def get_action(self):\n",
        "        \"\"\"\n",
        "        Get current best action\n",
        "        :rtype: int\n",
        "        \"\"\"\n",
        "        pass\n",
        "\n",
        "    def update(self, action, reward):\n",
        "        \"\"\"\n",
        "        Observe reward from action and update agent's internal parameters\n",
        "        :type action: int\n",
        "        :type reward: int\n",
        "        \"\"\"\n",
        "        if reward == 1:\n",
        "          self._successes[action] += 1\n",
        "        else:\n",
        "          self._failures[action] += 1\n",
        "        self._total_pulls += 1\n",
        "\n",
        "    @property\n",
        "    def name(self):\n",
        "        return self.__class__.__name__\n",
        "\n",
        "\n",
        "class RandomAgent(AbstractAgent):\n",
        "    def get_action(self):\n",
        "        np.random.randint(0, len(self._failures))"
      ]
    },
    {
      "cell_type": "markdown",
      "metadata": {
        "id": "ytpRyo_A0vHR"
      },
      "source": [
        "### Epsilon-greedy agent"
      ]
    },
    {
      "cell_type": "code",
      "execution_count": 4,
      "metadata": {
        "id": "i6cDYFBO0vHR"
      },
      "outputs": [],
      "source": [
        "class EpsilonGreedyAgent(AbstractAgent):\n",
        "    def __init__(self, epsilon=0.2):\n",
        "        super().init_actions(n_actions=5)  # Initialize actions for 5 possible actions\n",
        "        self._epsilon = epsilon\n",
        "\n",
        "    def get_action(self):\n",
        "        \"\"\"\n",
        "        Selects an action based on the epsilon-greedy strategy.\n",
        "        \"\"\"\n",
        "        if np.random.random() < self._epsilon:\n",
        "            # Explore: select a random action\n",
        "            return np.random.randint(0, len(self._successes))\n",
        "        else:\n",
        "            # Exploit: select the action with the highest estimated Q-value\n",
        "            q = self._successes / (self._successes + self._failures + 1e-5)  # Avoid division by zero\n",
        "            return np.argmax(q)\n",
        "\n",
        "    @property\n",
        "    def name(self):\n",
        "        return self.__class__.__name__ + \"(epsilon={})\".format(self._epsilon)"
      ]
    },
    {
      "cell_type": "markdown",
      "source": [
        "### Decaying Epsilon-greedy agent:"
      ],
      "metadata": {
        "id": "hmJNENf9aQQK"
      }
    },
    {
      "cell_type": "code",
      "source": [
        "class DecayingEpsilonGreedyAgent(AbstractAgent):\n",
        "    def __init__(self, epsilon=0.2):\n",
        "        self._epsilon = epsilon\n",
        "\n",
        "    def get_action(self):\n",
        "      if np.random.random() < self._epsilon:\n",
        "          return np.random.randint(len(self._successes))\n",
        "      else:\n",
        "          return np.argmax(self._successes/(self._successes + self._failures + 0.01))\n",
        "\n",
        "      self._epsilon  = self._epsilon * 0.9999\n",
        "\n",
        "\n",
        "    @property\n",
        "    def name(self):\n",
        "        return self.__class__.__name__"
      ],
      "metadata": {
        "id": "30-Hak9DKjT1"
      },
      "execution_count": 5,
      "outputs": []
    },
    {
      "cell_type": "markdown",
      "metadata": {
        "id": "EzqWr5rT0vHR"
      },
      "source": [
        "### UCB Agent"
      ]
    },
    {
      "cell_type": "code",
      "execution_count": 6,
      "metadata": {
        "id": "-Jx8a3Rd0vHS"
      },
      "outputs": [],
      "source": [
        "class UCBAgent(AbstractAgent):\n",
        "    def get_action(self):\n",
        "\n",
        "        w = self._successes  / (self._successes + self._failures+0.01) + np.sqrt(2 * np.log(self._total_pulls + 0.01) / (self._successes + self._failures + 0.01))\n",
        "        return np.argmax(w)"
      ]
    },
    {
      "cell_type": "code",
      "execution_count": 7,
      "metadata": {
        "id": "RIJTr4j10vHT"
      },
      "outputs": [],
      "source": [
        "from collections import OrderedDict\n",
        "\n",
        "def get_regret(env, agents, n_steps=5000, n_trials=50):\n",
        "    scores = OrderedDict({\n",
        "        agent.name: [0.0 for step in range(n_steps)] for agent in agents\n",
        "    })\n",
        "\n",
        "    for trial in range(n_trials):\n",
        "        env.reset()\n",
        "\n",
        "        for a in agents:\n",
        "            a.init_actions(env.action_count)\n",
        "\n",
        "        for i in range(n_steps):\n",
        "            optimal_reward = env.optimal_reward()\n",
        "\n",
        "            for agent in agents:\n",
        "                action = agent.get_action()\n",
        "                reward = env.pull(action)\n",
        "                agent.update(action, reward)\n",
        "                scores[agent.name][i] += optimal_reward - reward\n",
        "\n",
        "            env.step()  # change bandit's state if it is unstationary\n",
        "\n",
        "    for agent in agents:\n",
        "        scores[agent.name] = np.cumsum(scores[agent.name]) / n_trials\n",
        "\n",
        "    return scores\n",
        "\n",
        "def plot_regret(agents, scores):\n",
        "    for agent in agents:\n",
        "        plt.plot(scores[agent.name])\n",
        "\n",
        "    plt.legend([agent.name for agent in agents])\n",
        "\n",
        "    plt.ylabel(\"regret\")\n",
        "    plt.xlabel(\"steps\")\n",
        "\n",
        "    plt.show()"
      ]
    },
    {
      "cell_type": "code",
      "execution_count": 8,
      "metadata": {
        "id": "s2uISH8y0vHT",
        "colab": {
          "base_uri": "https://localhost:8080/",
          "height": 484
        },
        "outputId": "beb01ed6-f0e9-4a12-fd14-543e4b0e1e6c"
      },
      "outputs": [
        {
          "output_type": "stream",
          "name": "stderr",
          "text": [
            "<ipython-input-6-d8ce1ea5f0c5>:4: RuntimeWarning: invalid value encountered in sqrt\n",
            "  w = self._successes  / (self._successes + self._failures+0.01) + np.sqrt(2 * np.log(self._total_pulls + 0.01) / (self._successes + self._failures + 0.01))\n"
          ]
        },
        {
          "output_type": "display_data",
          "data": {
            "text/plain": [
              "<Figure size 640x480 with 1 Axes>"
            ],
            "image/png": "[encoded data removed]"
          },
          "metadata": {}
        }
      ],
      "source": [
        "# Uncomment agents\n",
        "agents = [\n",
        "    EpsilonGreedyAgent(),\n",
        "    DecayingEpsilonGreedyAgent(),\n",
        "    UCBAgent(),\n",
        "]\n",
        "\n",
        "regret = get_regret(BernoulliBandit(), agents, n_steps=10000, n_trials=10)\n",
        "plot_regret(agents, regret)"
      ]
    },
    {
      "cell_type": "markdown",
      "source": [
        "### Bayesian Bandits (Thompson Sampling)"
      ],
      "metadata": {
        "id": "jt8emYUqq3Bt"
      }
    },
    {
      "cell_type": "code",
      "source": [
        "import numpy as np\n",
        "import matplotlib.pyplot as plt\n",
        "\n",
        "class BayesianBandit:\n",
        "    def __init__(self, num_machines):\n",
        "        self.num_machines = num_machines\n",
        "        self.alpha = np.ones(num_machines)    # prior of 1 for each machine\n",
        "        self.beta = np.ones(num_machines)     # prior of 1 for each machine\n",
        "        self.real_winning_rate = [round(np.random.random(), 1) for _ in range(num_machines)] # the real winning rate of machines. #### THIS PART IS UNKOWN FOR THE AGENT.\n",
        "\n",
        "    def choose_machine(self):\n",
        "        theta = np.random.beta(self.alpha, self.beta)    # sample theta values from Beta distribution\n",
        "        return np.argmax(theta)    # choose the machine with highest theta value\n",
        "\n",
        "    def update(self, machine, reward):\n",
        "        self.alpha[machine] += reward    # update alpha with reward\n",
        "        self.beta[machine] += 1 - reward    # update beta with non-reward\n",
        "\n",
        "    def take_action(self, machine):\n",
        "        return 1 if self.real_winning_rate[machine] > np.random.random()  else 0\n",
        "\n",
        "# Example usage:\n",
        "num_machines = 5\n",
        "num_trials = 1000\n",
        "bandit = BayesianBandit(num_machines)\n",
        "rewards = np.zeros(num_machines)\n",
        "\n",
        "for i in range(num_trials):\n",
        "    machine = bandit.choose_machine()\n",
        "    # reward = np.random.binomial(1, 0.5)    # simulate reward with 50% probability\n",
        "    reward = bandit.take_action(machine)\n",
        "    rewards[machine] += reward\n",
        "    bandit.update(machine, reward)\n",
        "\n",
        "# Plot the results:\n",
        "x = np.arange(num_machines)\n",
        "plt.bar(x, rewards)\n",
        "plt.title('Bayesian Bandit Results after {} trials'.format(num_trials))\n",
        "plt.xlabel('Option')\n",
        "plt.ylabel('Number of rewards')\n",
        "plt.show()\n",
        "# print([(a,b)for a,b in zip(bandit.alpha, bandit.beta)])\n",
        "print(bandit.real_winning_rate)\n"
      ],
      "metadata": {
        "id": "xkJthGrCChhf",
        "colab": {
          "base_uri": "https://localhost:8080/",
          "height": 489
        },
        "outputId": "000fa6b5-99a0-4976-9618-e9adb40a7879"
      },
      "execution_count": 9,
      "outputs": [
        {
          "output_type": "display_data",
          "data": {
            "text/plain": [
              "<Figure size 640x480 with 1 Axes>"
            ],
            "image/png": "[encoded data removed]"
          },
          "metadata": {}
        },
        {
          "output_type": "stream",
          "name": "stdout",
          "text": [
            "[0.4, 0.3, 0.9, 0.2, 0.1]\n"
          ]
        }
      ]
    }
  ]
}
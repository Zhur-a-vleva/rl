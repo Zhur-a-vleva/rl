{
  "cells": [
    {
      "cell_type": "code",
      "execution_count": 1,
      "metadata": {
        "id": "dluW78iEaf_C"
      },
      "outputs": [],
      "source": [
        "import sys, os\n",
        "from IPython.display import clear_output\n",
        "\n",
        "if os.path.exists('.setup_complete'):\n",
        "    !pip install gym[all]\n",
        "    clear_output()\n",
        "\n",
        "if 'google.colab' in sys.modules and not os.path.exists('.setup_complete'):\n",
        "    !wget -q https://raw.githubusercontent.com/mhd-medfa/IU-Reinforcement-Learning-22-lab/main/setup_colab.sh -O- | bash\n",
        "    !touch .setup_complete\n",
        "    exit()"
      ]
    },
    {
      "cell_type": "code",
      "execution_count": 2,
      "metadata": {
        "colab": {
          "base_uri": "https://localhost:8080/"
        },
        "id": "cLnfMY7BVOHz",
        "outputId": "3fb32e14-3fea-485b-a4f4-43662e40e6aa"
      },
      "outputs": [
        {
          "output_type": "stream",
          "name": "stdout",
          "text": [
            "Requirement already satisfied: pyglet==1.5.27 in /usr/local/lib/python3.10/dist-packages (1.5.27)\n"
          ]
        }
      ],
      "source": [
        "!pip install pyglet==1.5.27"
      ]
    },
    {
      "cell_type": "code",
      "execution_count": 3,
      "metadata": {
        "colab": {
          "base_uri": "https://localhost:8080/"
        },
        "id": "OIavzcg6aDD3",
        "outputId": "a5191316-f118-4afa-ec42-da981f8818d0"
      },
      "outputs": [
        {
          "output_type": "stream",
          "name": "stdout",
          "text": [
            "Starting virtual X frame buffer: Xvfb.\n"
          ]
        }
      ],
      "source": [
        "# This code creates a virtual display to draw game images on.\n",
        "if type(os.environ.get(\"DISPLAY\")) is not str or len(os.environ.get(\"DISPLAY\")) == 0:\n",
        "    !bash ../xvfb start\n",
        "    os.environ['DISPLAY'] = ':1'"
      ]
    },
    {
      "cell_type": "code",
      "execution_count": 4,
      "metadata": {
        "id": "HqFuyzvrsUGN"
      },
      "outputs": [],
      "source": [
        "import numpy as np\n",
        "import gym\n",
        "import matplotlib.pyplot as plt\n",
        "%matplotlib inline"
      ]
    },
    {
      "cell_type": "markdown",
      "metadata": {
        "id": "LCYdai6TxOc7"
      },
      "source": [
        "# Load Environment"
      ]
    },
    {
      "cell_type": "markdown",
      "metadata": {
        "id": "hzIK2IdonVGy"
      },
      "source": [
        "## Cartpole-V0\n",
        "\n",
        "<center><img src=\"https://drive.google.com/uc?id=1Qpj_jmy3AUqxieDRmWqY8PLkemAZ2jcx\"></center>"
      ]
    },
    {
      "cell_type": "code",
      "execution_count": 8,
      "metadata": {
        "id": "I-ugxR1-xYNK",
        "colab": {
          "base_uri": "https://localhost:8080/"
        },
        "outputId": "67728c86-1f24-4764-c4f0-68321e957f48"
      },
      "outputs": [
        {
          "output_type": "execute_result",
          "data": {
            "text/plain": [
              "0"
            ]
          },
          "metadata": {},
          "execution_count": 8
        }
      ],
      "source": [
        "env = gym.make('CartPole-v1', render_mode='rgb_array')\n",
        "env.action_space.sample()"
      ]
    },
    {
      "cell_type": "code",
      "execution_count": 9,
      "metadata": {
        "id": "k0kmc2GlvHyC",
        "colab": {
          "base_uri": "https://localhost:8080/"
        },
        "outputId": "faa072d8-a7a7-4573-c4ed-c36f5c908270"
      },
      "outputs": [
        {
          "output_type": "stream",
          "name": "stdout",
          "text": [
            "Episode:1 Score:17.0\n",
            "Episode:2 Score:97.0\n",
            "Episode:3 Score:17.0\n",
            "Episode:4 Score:63.0\n",
            "Episode:5 Score:23.0\n"
          ]
        }
      ],
      "source": [
        "episodes = 5\n",
        "for episode in range(1, episodes+1):\n",
        "    state = env.reset()\n",
        "    done = False\n",
        "    score = 0\n",
        "\n",
        "    while not done:\n",
        "        env.render()\n",
        "        action = env.action_space.sample()\n",
        "        n_state, reward, done, info = env.step(action)\n",
        "        score+=reward\n",
        "    print('Episode:{} Score:{}'.format(episode, score))\n",
        "env.close()"
      ]
    },
    {
      "cell_type": "code",
      "execution_count": 19,
      "metadata": {
        "id": "AzaEkg-8svhl",
        "colab": {
          "base_uri": "https://localhost:8080/",
          "height": 485
        },
        "outputId": "124f615e-e1b3-4832-be18-d4257ee97c4e"
      },
      "outputs": [
        {
          "output_type": "stream",
          "name": "stderr",
          "text": [
            "/usr/local/lib/python3.10/dist-packages/ipykernel/ipkernel.py:283: DeprecationWarning: `should_run_async` will not call `transform_cell` automatically in the future. Please pass the result to `transformed_cell` argument and any exception that happen during thetransform in `preprocessing_exc_tuple` in IPython 7.17 and above.\n",
            "  and should_run_async(code)\n"
          ]
        },
        {
          "output_type": "stream",
          "name": "stdout",
          "text": [
            "Observation space: Box([-4.8000002e+00 -3.4028235e+38 -4.1887903e-01 -3.4028235e+38], [4.8000002e+00 3.4028235e+38 4.1887903e-01 3.4028235e+38], (4,), float32)\n",
            "Action space: Discrete(2)\n"
          ]
        },
        {
          "output_type": "display_data",
          "data": {
            "text/plain": [
              "<Figure size 640x480 with 1 Axes>"
            ],
            "image/png": "[encoded data removed]"
          },
          "metadata": {}
        }
      ],
      "source": [
        "env.reset()\n",
        "\n",
        "plt.imshow(env.render()[0])\n",
        "print(\"Observation space:\", env.observation_space)\n",
        "print(\"Action space:\", env.action_space)"
      ]
    },
    {
      "cell_type": "code",
      "execution_count": 20,
      "metadata": {
        "id": "SSt_kqHRywz6",
        "colab": {
          "base_uri": "https://localhost:8080/"
        },
        "outputId": "6df20e8f-5ddc-40ad-ed5f-42a355c706fd"
      },
      "outputs": [
        {
          "output_type": "execute_result",
          "data": {
            "text/plain": [
              "0"
            ]
          },
          "metadata": {},
          "execution_count": 20
        }
      ],
      "source": [
        "# 0-push cart to left, 1-push cart to the right\n",
        "env.action_space.sample()"
      ]
    },
    {
      "cell_type": "code",
      "execution_count": 21,
      "metadata": {
        "id": "t7QxXiosy33-",
        "colab": {
          "base_uri": "https://localhost:8080/"
        },
        "outputId": "a53cd105-fbd3-4382-8607-bb9071eee8b9"
      },
      "outputs": [
        {
          "output_type": "execute_result",
          "data": {
            "text/plain": [
              "array([-1.3065099e+00, -1.9872784e+38, -2.2873111e-02, -3.0858246e+38],\n",
              "      dtype=float32)"
            ]
          },
          "metadata": {},
          "execution_count": 21
        }
      ],
      "source": [
        "# [cart position, cart velocity, pole angle, pole angular velocity]\n",
        "env.observation_space.sample()"
      ]
    },
    {
      "cell_type": "code",
      "source": [
        "env.close()"
      ],
      "metadata": {
        "id": "j2fYwAJ6wBPv"
      },
      "execution_count": 22,
      "outputs": []
    }
  ],
  "metadata": {
    "colab": {
      "provenance": []
    },
    "kernelspec": {
      "display_name": "Python 3",
      "name": "python3"
    },
    "language_info": {
      "name": "python"
    }
  },
  "nbformat": 4,
  "nbformat_minor": 0
}